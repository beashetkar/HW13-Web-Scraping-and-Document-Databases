{
 "cells": [
  {
   "cell_type": "markdown",
   "metadata": {},
   "source": [
    "# MISSION TO MARS\n",
    "\n",
    "## Step 1 - Scraping"
   ]
  },
  {
   "cell_type": "code",
   "execution_count": 1,
   "metadata": {},
   "outputs": [],
   "source": [
    "# Dependencies\n",
    "\n",
    "# https://splinter.readthedocs.io/en/latest/drivers/chrome.html\n",
    "from splinter import Browser\n",
    "from bs4 import BeautifulSoup  \n",
    "import requests\n",
    "import tweepy\n",
    "import yaml\n",
    "import pandas as pd\n",
    "import time\n",
    "\n",
    "executable_path = {'executable_path': 'chromedriver.exe'}\n",
    "browser = Browser('chrome', **executable_path, headless=False)"
   ]
  },
  {
   "cell_type": "markdown",
   "metadata": {},
   "source": [
    "### NASA Mars News\n",
    "\n",
    "Scrape the NASA Mars News Site and collect:\n",
    "* The latest News Title (news_title).\n",
    "* Paragragh Text (paragraph_title). "
   ]
  },
  {
   "cell_type": "code",
   "execution_count": 2,
   "metadata": {},
   "outputs": [
    {
     "name": "stdout",
     "output_type": "stream",
     "text": [
      "\n",
      "\n",
      "NASA Invests in Visionary Technology \n",
      "\n",
      "\n",
      "\n",
      "NASA is investing in technology concepts, including several from JPL, that may one day be used for future space exploration missions.\n",
      "\n"
     ]
    }
   ],
   "source": [
    "# Scrape the NASA Mars News Site. \n",
    "url_news = \"https://mars.nasa.gov/news/\"  \n",
    "response = requests.get(url_news)\n",
    "\n",
    "# Create BeautifulSoup object; parse with 'html.parser'\n",
    "soup = BeautifulSoup(response.text, 'html.parser')\n",
    "\n",
    "# Collect the latest News Title \n",
    "news_title = soup.find('div', class_=\"content_title\").text\n",
    "print (news_title)\n",
    "\n",
    "# Collect the latest New Paragraph Text\n",
    "news_paragraph = soup.find('div', class_=\"rollover_description_inner\").text\n",
    "print (news_paragraph)"
   ]
  },
  {
   "cell_type": "code",
   "execution_count": 3,
   "metadata": {},
   "outputs": [],
   "source": [
    "mars_data = {}"
   ]
  },
  {
   "cell_type": "markdown",
   "metadata": {
    "collapsed": true
   },
   "source": [
    "### JPL Mars Space Images - Featured Image\n",
    "\n",
    "URL JPL's Featured Space Image:  https://www.jpl.nasa.gov/spaceimages/?search=&category=Mars.\n",
    "\n",
    "* Use splinter to navigate the site and find the image url for the current Featured Mars Image and assign the url string to a variable called featured_image_url.\n",
    "* Make sure to find the image url to the full size .jpg image.\n",
    "* Make sure to save a complete url string for this image."
   ]
  },
  {
   "cell_type": "code",
   "execution_count": 4,
   "metadata": {},
   "outputs": [
    {
     "name": "stdout",
     "output_type": "stream",
     "text": [
      "https://www.jpl.nasa.gov/spaceimages/images/mediumsize/PIA20063_ip.jpg\n"
     ]
    }
   ],
   "source": [
    "# Scrape the JPL Mars Space Images Site\n",
    "url_si = \"https://www.jpl.nasa.gov/spaceimages/?search=&category=Mars\"\n",
    "browser.visit(url_si)\n",
    "html = browser.html\n",
    "\n",
    "# Create BeautifulSoup object; parse with 'html.parser'\n",
    "soup = BeautifulSoup(html, 'html.parser')\n",
    "\n",
    "# Collect the featured Mars Image\n",
    "image = soup.find(\"a\", class_=\"button fancybox\")[\"data-fancybox-href\"]\n",
    "featured_image_url = \"https://www.jpl.nasa.gov\" + image\n",
    "print(featured_image_url)"
   ]
  },
  {
   "cell_type": "markdown",
   "metadata": {
    "collapsed": true
   },
   "source": [
    "### Mars Weather\n",
    "* Visit the Mars Weather twitter account: https://twitter.com/marswxreport?lang=en \n",
    "* Scrape the latest Mars weather tweet from the page. Save the tweet text for the weather report as a variable called\n",
    "mars_weather.\n",
    "\n",
    "#### Example:\n",
    "mars_weather = 'Sol 1801 (Aug 30, 2017), Sunny, high -21C/-5F, low -80C/-112F, pressure at 8.82 hPa, daylight 06:09-17:55'"
   ]
  },
  {
   "cell_type": "code",
   "execution_count": 6,
   "metadata": {},
   "outputs": [],
   "source": [
    "# Given a yaml filename , return the Twitter API Keys\n",
    "\n",
    "def get_file_contents(filename):\n",
    "    try:\n",
    "        with open(filename, 'r') as config_file:\n",
    "            config = yaml.load(config_file)\n",
    "            return (config)\n",
    "    except FileNotFoundError:\n",
    "        print(\"'%s' file not found\" % filename)"
   ]
  },
  {
   "cell_type": "code",
   "execution_count": 8,
   "metadata": {},
   "outputs": [],
   "source": [
    "TWITTER_CONFIG_FILE = 'auth.yaml'\n",
    "\n",
    "# Get the Twitter API Keys\n",
    "config = get_file_contents(TWITTER_CONFIG_FILE)\n",
    "\n",
    "# Twitter API Keys\n",
    "consumer_key = config['twitter']['consumer_key']\n",
    "consumer_secret = config['twitter']['consumer_secret']\n",
    "access_token = config['twitter']['access_token']\n",
    "access_token_secret = config['twitter']['access_token_secret']\n",
    "\n",
    "# Setup Tweepy API Authentication\n",
    "auth = tweepy.OAuthHandler(consumer_key, consumer_secret)\n",
    "auth.set_access_token(access_token, access_token_secret)\n",
    "api = tweepy.API(auth, parser=tweepy.parsers.JSONParser())\n",
    "\n",
    "target_user= \"@MarsWxReport\""
   ]
  },
  {
   "cell_type": "code",
   "execution_count": 9,
   "metadata": {},
   "outputs": [
    {
     "name": "stdout",
     "output_type": "stream",
     "text": [
      "RT @rtphokie: Narrowing of the forecast continues for #Tiangong1, now predicted to reenter sometime between Saturday 7:15 am and Sunday 11:…\n"
     ]
    }
   ],
   "source": [
    "# Scrape the latest Mars weather tweet from the Mars Weather twitter account\n",
    "\n",
    "# Search for all tweets\n",
    "mars_tweets = api.user_timeline(target_user, count=1)\n",
    "\n",
    "# Get the latest Mars weather tweet from home feed\n",
    "mars_weather = mars_tweets[0][\"text\"]\n",
    "\n",
    "print (mars_weather)"
   ]
  },
  {
   "cell_type": "markdown",
   "metadata": {},
   "source": [
    "### Mars Facts\n",
    "Visit the Mars Facts webpage: https://space-facts.com/mars/ and use Pandas to scrape the table containing facts about the planet including Diameter, Mass, etc.\n",
    "\n",
    "Use Pandas to convert the data to a HTML table string."
   ]
  },
  {
   "cell_type": "code",
   "execution_count": 30,
   "metadata": {},
   "outputs": [
    {
     "name": "stdout",
     "output_type": "stream",
     "text": [
      "[<table class=\"tablepress tablepress-id-mars\" id=\"tablepress-mars\">\n",
      "<tbody>\n",
      "<tr class=\"row-1 odd\">\n",
      "<td class=\"column-1\"><strong>Equatorial Diameter:</strong></td><td class=\"column-2\">6,792 km<br/>\n",
      "</td>\n",
      "</tr>\n",
      "<tr class=\"row-2 even\">\n",
      "<td class=\"column-1\"><strong>Polar Diameter:</strong></td><td class=\"column-2\">6,752 km<br/>\n",
      "</td>\n",
      "</tr>\n",
      "<tr class=\"row-3 odd\">\n",
      "<td class=\"column-1\"><strong>Mass:</strong></td><td class=\"column-2\">6.42 x 10^23 kg (10.7% Earth)</td>\n",
      "</tr>\n",
      "<tr class=\"row-4 even\">\n",
      "<td class=\"column-1\"><strong>Moons:</strong></td><td class=\"column-2\">2 (<a href=\"https://space-facts.com/phobos/\">Phobos</a> &amp; <a href=\"https://space-facts.com/deimos/\">Deimos</a>)</td>\n",
      "</tr>\n",
      "<tr class=\"row-5 odd\">\n",
      "<td class=\"column-1\"><strong>Orbit Distance:</strong></td><td class=\"column-2\">227,943,824 km (1.52 AU)</td>\n",
      "</tr>\n",
      "<tr class=\"row-6 even\">\n",
      "<td class=\"column-1\"><strong>Orbit Period:</strong></td><td class=\"column-2\">687 days (1.9 years)<br/>\n",
      "</td>\n",
      "</tr>\n",
      "<tr class=\"row-7 odd\">\n",
      "<td class=\"column-1\"><strong>Surface Temperature: </strong></td><td class=\"column-2\">-153 to 20 °C</td>\n",
      "</tr>\n",
      "<tr class=\"row-8 even\">\n",
      "<td class=\"column-1\"><strong>First Record:</strong></td><td class=\"column-2\">2nd millennium BC</td>\n",
      "</tr>\n",
      "<tr class=\"row-9 odd\">\n",
      "<td class=\"column-1\"><strong>Recorded By:</strong></td><td class=\"column-2\">Egyptian astronomers</td>\n",
      "</tr>\n",
      "</tbody>\n",
      "</table>]\n"
     ]
    }
   ],
   "source": [
    "# Scrape the Mars Facts Webpage\n",
    "url_mf = \"https://space-facts.com/mars\"\n",
    "browser.visit(url_mf)\n",
    "html = browser.html\n",
    "soup = BeautifulSoup(html, 'html.parser')\n",
    "\n",
    "results = soup.find_all('table')\n",
    "\n",
    "#with open(html) as f:\n",
    "#    soup = bs.BeautifulSoup(f, 'lxml')\n",
    "#    parsed_table = soup.find_all('table')[1] \n",
    "#    data = [[td.a['href'] if td.find('a') else \n",
    "#             ''.join(td.stripped_strings)\n",
    "#             for td in row.find_all('td')]\n",
    "#            for row in parsed_table.find_all('tr')]\n",
    "#    mars_df = pd.DataFrame(data[1:], columns=data[0])\n",
    "print(results) "
   ]
  },
  {
   "cell_type": "code",
   "execution_count": 28,
   "metadata": {},
   "outputs": [
    {
     "ename": "ImportError",
     "evalue": "lxml not found, please install it",
     "output_type": "error",
     "traceback": [
      "\u001b[1;31m---------------------------------------------------------------------------\u001b[0m",
      "\u001b[1;31mImportError\u001b[0m                               Traceback (most recent call last)",
      "\u001b[1;32m<ipython-input-28-e1ee31272f3b>\u001b[0m in \u001b[0;36m<module>\u001b[1;34m()\u001b[0m\n\u001b[0;32m      1\u001b[0m \u001b[1;31m# With read_html function in Pandas, automatically scrape the tabular data from Mars Facts Webpage.\u001b[0m\u001b[1;33m\u001b[0m\u001b[1;33m\u001b[0m\u001b[0m\n\u001b[1;32m----> 2\u001b[1;33m \u001b[0mmars_df\u001b[0m \u001b[1;33m=\u001b[0m \u001b[0mpd\u001b[0m\u001b[1;33m.\u001b[0m\u001b[0mread_html\u001b[0m\u001b[1;33m(\u001b[0m\u001b[0murl_mf\u001b[0m\u001b[1;33m)\u001b[0m\u001b[1;33m[\u001b[0m\u001b[1;36m0\u001b[0m\u001b[1;33m]\u001b[0m\u001b[1;33m\u001b[0m\u001b[0m\n\u001b[0m\u001b[0;32m      3\u001b[0m \u001b[0mmars_df\u001b[0m\u001b[1;33m.\u001b[0m\u001b[0mcolumns\u001b[0m \u001b[1;33m=\u001b[0m \u001b[1;33m[\u001b[0m\u001b[1;34m\"Facts\"\u001b[0m\u001b[1;33m,\u001b[0m \u001b[1;34m\"Data\"\u001b[0m\u001b[1;33m]\u001b[0m\u001b[1;33m\u001b[0m\u001b[0m\n\u001b[0;32m      4\u001b[0m \u001b[0mmars_df\u001b[0m\u001b[1;33m.\u001b[0m\u001b[0mset_index\u001b[0m\u001b[1;33m(\u001b[0m\u001b[1;34m\"Facts\"\u001b[0m\u001b[1;33m,\u001b[0m \u001b[0minplace\u001b[0m\u001b[1;33m=\u001b[0m\u001b[1;32mTrue\u001b[0m\u001b[1;33m)\u001b[0m\u001b[1;33m\u001b[0m\u001b[0m\n\u001b[0;32m      5\u001b[0m \u001b[0mmars_df\u001b[0m\u001b[1;33m\u001b[0m\u001b[0m\n",
      "\u001b[1;32mc:\\users\\bea\\appdata\\local\\continuum\\anaconda3\\envs\\pythondata\\lib\\site-packages\\pandas\\io\\html.py\u001b[0m in \u001b[0;36mread_html\u001b[1;34m(io, match, flavor, header, index_col, skiprows, attrs, parse_dates, tupleize_cols, thousands, encoding, decimal, converters, na_values, keep_default_na)\u001b[0m\n\u001b[0;32m    913\u001b[0m                   \u001b[0mthousands\u001b[0m\u001b[1;33m=\u001b[0m\u001b[0mthousands\u001b[0m\u001b[1;33m,\u001b[0m \u001b[0mattrs\u001b[0m\u001b[1;33m=\u001b[0m\u001b[0mattrs\u001b[0m\u001b[1;33m,\u001b[0m \u001b[0mencoding\u001b[0m\u001b[1;33m=\u001b[0m\u001b[0mencoding\u001b[0m\u001b[1;33m,\u001b[0m\u001b[1;33m\u001b[0m\u001b[0m\n\u001b[0;32m    914\u001b[0m                   \u001b[0mdecimal\u001b[0m\u001b[1;33m=\u001b[0m\u001b[0mdecimal\u001b[0m\u001b[1;33m,\u001b[0m \u001b[0mconverters\u001b[0m\u001b[1;33m=\u001b[0m\u001b[0mconverters\u001b[0m\u001b[1;33m,\u001b[0m \u001b[0mna_values\u001b[0m\u001b[1;33m=\u001b[0m\u001b[0mna_values\u001b[0m\u001b[1;33m,\u001b[0m\u001b[1;33m\u001b[0m\u001b[0m\n\u001b[1;32m--> 915\u001b[1;33m                   keep_default_na=keep_default_na)\n\u001b[0m",
      "\u001b[1;32mc:\\users\\bea\\appdata\\local\\continuum\\anaconda3\\envs\\pythondata\\lib\\site-packages\\pandas\\io\\html.py\u001b[0m in \u001b[0;36m_parse\u001b[1;34m(flavor, io, match, attrs, encoding, **kwargs)\u001b[0m\n\u001b[0;32m    737\u001b[0m     \u001b[0mretained\u001b[0m \u001b[1;33m=\u001b[0m \u001b[1;32mNone\u001b[0m\u001b[1;33m\u001b[0m\u001b[0m\n\u001b[0;32m    738\u001b[0m     \u001b[1;32mfor\u001b[0m \u001b[0mflav\u001b[0m \u001b[1;32min\u001b[0m \u001b[0mflavor\u001b[0m\u001b[1;33m:\u001b[0m\u001b[1;33m\u001b[0m\u001b[0m\n\u001b[1;32m--> 739\u001b[1;33m         \u001b[0mparser\u001b[0m \u001b[1;33m=\u001b[0m \u001b[0m_parser_dispatch\u001b[0m\u001b[1;33m(\u001b[0m\u001b[0mflav\u001b[0m\u001b[1;33m)\u001b[0m\u001b[1;33m\u001b[0m\u001b[0m\n\u001b[0m\u001b[0;32m    740\u001b[0m         \u001b[0mp\u001b[0m \u001b[1;33m=\u001b[0m \u001b[0mparser\u001b[0m\u001b[1;33m(\u001b[0m\u001b[0mio\u001b[0m\u001b[1;33m,\u001b[0m \u001b[0mcompiled_match\u001b[0m\u001b[1;33m,\u001b[0m \u001b[0mattrs\u001b[0m\u001b[1;33m,\u001b[0m \u001b[0mencoding\u001b[0m\u001b[1;33m)\u001b[0m\u001b[1;33m\u001b[0m\u001b[0m\n\u001b[0;32m    741\u001b[0m \u001b[1;33m\u001b[0m\u001b[0m\n",
      "\u001b[1;32mc:\\users\\bea\\appdata\\local\\continuum\\anaconda3\\envs\\pythondata\\lib\\site-packages\\pandas\\io\\html.py\u001b[0m in \u001b[0;36m_parser_dispatch\u001b[1;34m(flavor)\u001b[0m\n\u001b[0;32m    695\u001b[0m     \u001b[1;32melse\u001b[0m\u001b[1;33m:\u001b[0m\u001b[1;33m\u001b[0m\u001b[0m\n\u001b[0;32m    696\u001b[0m         \u001b[1;32mif\u001b[0m \u001b[1;32mnot\u001b[0m \u001b[0m_HAS_LXML\u001b[0m\u001b[1;33m:\u001b[0m\u001b[1;33m\u001b[0m\u001b[0m\n\u001b[1;32m--> 697\u001b[1;33m             \u001b[1;32mraise\u001b[0m \u001b[0mImportError\u001b[0m\u001b[1;33m(\u001b[0m\u001b[1;34m\"lxml not found, please install it\"\u001b[0m\u001b[1;33m)\u001b[0m\u001b[1;33m\u001b[0m\u001b[0m\n\u001b[0m\u001b[0;32m    698\u001b[0m     \u001b[1;32mreturn\u001b[0m \u001b[0m_valid_parsers\u001b[0m\u001b[1;33m[\u001b[0m\u001b[0mflavor\u001b[0m\u001b[1;33m]\u001b[0m\u001b[1;33m\u001b[0m\u001b[0m\n\u001b[0;32m    699\u001b[0m \u001b[1;33m\u001b[0m\u001b[0m\n",
      "\u001b[1;31mImportError\u001b[0m: lxml not found, please install it"
     ]
    }
   ],
   "source": [
    "# With read_html function in Pandas, automatically scrape the tabular data from Mars Facts Webpage.\n",
    "mars_df = pd.read_html(url_mf)[0]\n",
    "mars_df.columns = [\"Facts\", \"Data\"]\n",
    "mars_df.set_index(\"Facts\", inplace=True)\n",
    "mars_df"
   ]
  },
  {
   "cell_type": "code",
   "execution_count": null,
   "metadata": {},
   "outputs": [],
   "source": [
    "# With to_html method, we generate the HTML table from mars_df DataFrame.\n",
    "mars_table_html = \"\".join(mars_df.to_html().split(\"\\n\"))\n",
    "mars_table_html"
   ]
  },
  {
   "cell_type": "markdown",
   "metadata": {},
   "source": [
    "### Mars Hemispheres\n",
    "* Visit the USGS Astrogeology site https://astrogeology.usgs.gov/search/results?q=hemisphere+enhanced&k1=target&v1=Mars to obtain high resolution images for each of Mar's hemispheres.\n",
    "\n",
    "* You will need to click each of the links to the hemispheres in order to find the image url to the full resolution image.\n",
    "\n",
    "* Save both the image url string for the full resolution hemipshere image, and the Hemisphere title containing the hemisphere name. Use a Python dictionary to store the data using the keys img_url and title.\n",
    "\n",
    "* Append the dictionary with the image url string and the hemisphere title to a list. This list will contain one dictionary for each hemisphere."
   ]
  },
  {
   "cell_type": "code",
   "execution_count": 14,
   "metadata": {},
   "outputs": [],
   "source": [
    "# Scrape the USGS Astrogeology site to get Mar's Hemispheres Images\n",
    "url_mh = \"https://astrogeology.usgs.gov/search/results?q=hemisphere+enhanced&k1=target&v1=Mars\"\n",
    "browser.visit(url_mh)\n",
    "html = browser.html\n",
    "soup = BeautifulSoup(html, 'html.parser')\n",
    "\n",
    "#list of mars hemispheres\n",
    "hemis_mars_list = []"
   ]
  },
  {
   "cell_type": "code",
   "execution_count": 15,
   "metadata": {},
   "outputs": [],
   "source": [
    "results = soup.find_all('h3')\n",
    "\n",
    "for r in results:\n",
    "    elem = r.getText()\n",
    "    browser.click_link_by_partial_text(elem)\n",
    "    \n",
    "    time.sleep(3)   # Takes time to return information\n",
    "    html = browser.html\n",
    "    soup = BeautifulSoup(html, 'html.parser')\n",
    "    \n",
    "    # Collect the full resolution image and the title of the image.\n",
    "    image = soup.find(\"img\", class_=\"wide-image\")[\"src\"]\n",
    "    img_url = \"https://astrogeology.usgs.gov\" + image\n",
    "    img_title = soup.find(\"h2\", class_=\"title\").text\n",
    "\n",
    "    # Keep a dictionary for each hemisphere. The dictionary contains the title and the feature image.\n",
    "    hemis_mars_list.append({\"title\": img_title, \"img_url\": img_url})\n",
    "    browser.back()    "
   ]
  },
  {
   "cell_type": "code",
   "execution_count": 16,
   "metadata": {},
   "outputs": [
    {
     "name": "stdout",
     "output_type": "stream",
     "text": [
      "[{'title': 'Cerberus Hemisphere Enhanced', 'img_url': 'https://astrogeology.usgs.gov/cache/images/cfa62af2557222a02478f1fcd781d445_cerberus_enhanced.tif_full.jpg'}, {'title': 'Schiaparelli Hemisphere Enhanced', 'img_url': 'https://astrogeology.usgs.gov/cache/images/3cdd1cbf5e0813bba925c9030d13b62e_schiaparelli_enhanced.tif_full.jpg'}, {'title': 'Syrtis Major Hemisphere Enhanced', 'img_url': 'https://astrogeology.usgs.gov/cache/images/ae209b4e408bb6c3e67b6af38168cf28_syrtis_major_enhanced.tif_full.jpg'}, {'title': 'Valles Marineris Hemisphere Enhanced', 'img_url': 'https://astrogeology.usgs.gov/cache/images/7cf2da4bf549ed01c17f206327be4db7_valles_marineris_enhanced.tif_full.jpg'}]\n"
     ]
    }
   ],
   "source": [
    "print(hemis_mars_list)\n"
   ]
  },
  {
   "cell_type": "code",
   "execution_count": 18,
   "metadata": {},
   "outputs": [
    {
     "ename": "NameError",
     "evalue": "name 'mars_table_html' is not defined",
     "output_type": "error",
     "traceback": [
      "\u001b[1;31m---------------------------------------------------------------------------\u001b[0m",
      "\u001b[1;31mNameError\u001b[0m                                 Traceback (most recent call last)",
      "\u001b[1;32m<ipython-input-18-6f50ba2d8b27>\u001b[0m in \u001b[0;36m<module>\u001b[1;34m()\u001b[0m\n\u001b[0;32m      5\u001b[0m \u001b[0mmars_data\u001b[0m\u001b[1;33m[\u001b[0m\u001b[1;34m\"mars_weather\"\u001b[0m\u001b[1;33m]\u001b[0m \u001b[1;33m=\u001b[0m \u001b[0mmars_weather\u001b[0m\u001b[1;33m\u001b[0m\u001b[0m\n\u001b[0;32m      6\u001b[0m \u001b[0mmars_data\u001b[0m\u001b[1;33m[\u001b[0m\u001b[1;34m\"mars_hemis\"\u001b[0m\u001b[1;33m]\u001b[0m \u001b[1;33m=\u001b[0m \u001b[0mhemis_mars_list\u001b[0m\u001b[1;33m\u001b[0m\u001b[0m\n\u001b[1;32m----> 7\u001b[1;33m \u001b[0mmars_data\u001b[0m\u001b[1;33m[\u001b[0m\u001b[1;34m\"mars_facts\"\u001b[0m\u001b[1;33m]\u001b[0m \u001b[1;33m=\u001b[0m \u001b[0mmars_table_html\u001b[0m\u001b[1;33m\u001b[0m\u001b[0m\n\u001b[0m",
      "\u001b[1;31mNameError\u001b[0m: name 'mars_table_html' is not defined"
     ]
    }
   ],
   "source": [
    "# Add  all the data collected to Mars dictionary\n",
    "mars_data[\"news_title\"] = news_title\n",
    "mars_data[\"news_paragraph\"] = news_paragraph\n",
    "mars_data[\"featured_image_url\"] = featured_image_url\n",
    "mars_data[\"mars_weather\"] = mars_weather\n",
    "mars_data[\"mars_hemis\"] = hemis_mars_list\n",
    "mars_data[\"mars_facts\"] = mars_table_html\n"
   ]
  },
  {
   "cell_type": "code",
   "execution_count": 19,
   "metadata": {},
   "outputs": [
    {
     "name": "stdout",
     "output_type": "stream",
     "text": [
      "\n",
      "\n",
      "NASA Invests in Visionary Technology \n",
      "\n",
      "\n",
      "\n",
      "NASA is investing in technology concepts, including several from JPL, that may one day be used for future space exploration missions.\n",
      "\n",
      "https://www.jpl.nasa.gov/spaceimages/images/mediumsize/PIA20063_ip.jpg\n",
      "RT @rtphokie: Narrowing of the forecast continues for #Tiangong1, now predicted to reenter sometime between Saturday 7:15 am and Sunday 11:…\n"
     ]
    },
    {
     "ename": "KeyError",
     "evalue": "'mars_facts'",
     "output_type": "error",
     "traceback": [
      "\u001b[1;31m---------------------------------------------------------------------------\u001b[0m",
      "\u001b[1;31mKeyError\u001b[0m                                  Traceback (most recent call last)",
      "\u001b[1;32m<ipython-input-19-e35381377c17>\u001b[0m in \u001b[0;36m<module>\u001b[1;34m()\u001b[0m\n\u001b[0;32m      3\u001b[0m \u001b[0mprint\u001b[0m \u001b[1;33m(\u001b[0m\u001b[0mmars_data\u001b[0m\u001b[1;33m[\u001b[0m\u001b[1;34m\"featured_image_url\"\u001b[0m\u001b[1;33m]\u001b[0m\u001b[1;33m)\u001b[0m\u001b[1;33m\u001b[0m\u001b[0m\n\u001b[0;32m      4\u001b[0m \u001b[0mprint\u001b[0m \u001b[1;33m(\u001b[0m\u001b[0mmars_data\u001b[0m\u001b[1;33m[\u001b[0m\u001b[1;34m\"mars_weather\"\u001b[0m\u001b[1;33m]\u001b[0m\u001b[1;33m)\u001b[0m\u001b[1;33m\u001b[0m\u001b[0m\n\u001b[1;32m----> 5\u001b[1;33m \u001b[0mprint\u001b[0m \u001b[1;33m(\u001b[0m\u001b[0mmars_data\u001b[0m\u001b[1;33m[\u001b[0m\u001b[1;34m\"mars_facts\"\u001b[0m\u001b[1;33m]\u001b[0m\u001b[1;33m)\u001b[0m\u001b[1;33m\u001b[0m\u001b[0m\n\u001b[0m\u001b[0;32m      6\u001b[0m \u001b[0mprint\u001b[0m \u001b[1;33m(\u001b[0m\u001b[0mmars_data\u001b[0m\u001b[1;33m[\u001b[0m\u001b[1;34m\"mars_hemis\"\u001b[0m\u001b[1;33m]\u001b[0m\u001b[1;33m)\u001b[0m\u001b[1;33m\u001b[0m\u001b[0m\n",
      "\u001b[1;31mKeyError\u001b[0m: 'mars_facts'"
     ]
    }
   ],
   "source": [
    "print (mars_data[\"news_title\"])\n",
    "print (mars_data[\"news_paragraph\"])\n",
    "print (mars_data[\"featured_image_url\"])\n",
    "print (mars_data[\"mars_weather\"])\n",
    "print (mars_data[\"mars_facts\"])\n",
    "print (mars_data[\"mars_hemis\"])"
   ]
  },
  {
   "cell_type": "code",
   "execution_count": null,
   "metadata": {},
   "outputs": [],
   "source": []
  }
 ],
 "metadata": {
  "kernelspec": {
   "display_name": "Python 3",
   "language": "python",
   "name": "python3"
  },
  "language_info": {
   "codemirror_mode": {
    "name": "ipython",
    "version": 3
   },
   "file_extension": ".py",
   "mimetype": "text/x-python",
   "name": "python",
   "nbconvert_exporter": "python",
   "pygments_lexer": "ipython3",
   "version": "3.6.4"
  }
 },
 "nbformat": 4,
 "nbformat_minor": 2
}
